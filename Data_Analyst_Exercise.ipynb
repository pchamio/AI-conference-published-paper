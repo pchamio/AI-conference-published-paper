{
  "nbformat": 4,
  "nbformat_minor": 0,
  "metadata": {
    "colab": {
      "name": "Data Analyst Exercise.ipynb",
      "provenance": [],
      "mount_file_id": "1JOwxqxhze3oDBXD6beEJOfE_ryqm6rag",
      "authorship_tag": "ABX9TyMIN/b7er6h4hKn4ux8YV3m",
      "include_colab_link": true
    },
    "kernelspec": {
      "name": "python3",
      "display_name": "Python 3"
    },
    "language_info": {
      "name": "python"
    }
  },
  "cells": [
    {
      "cell_type": "markdown",
      "metadata": {
        "id": "view-in-github",
        "colab_type": "text"
      },
      "source": [
        "<a href=\"https://colab.research.google.com/github/pchamio/AI-conference-published-paper/blob/main/Data_Analyst_Exercise.ipynb\" target=\"_parent\"><img src=\"https://colab.research.google.com/assets/colab-badge.svg\" alt=\"Open In Colab\"/></a>"
      ]
    },
    {
      "cell_type": "markdown",
      "metadata": {
        "id": "FtlLAT1hq8Mu"
      },
      "source": [
        "# Data Analyst Exercise\n"
      ]
    },
    {
      "cell_type": "markdown",
      "metadata": {
        "id": "-vT3tjLzVvW9"
      },
      "source": [
        "Import all the libraries"
      ]
    },
    {
      "cell_type": "code",
      "metadata": {
        "id": "_hEQC7IKp6Nh"
      },
      "source": [
        "# import\n",
        "import pandas as pd\n",
        "import seaborn as sns\n",
        "import matplotlib.pyplot as plt\n",
        "import numpy as np\n",
        "from sklearn.linear_model import LinearRegression"
      ],
      "execution_count": 1,
      "outputs": []
    },
    {
      "cell_type": "markdown",
      "metadata": {
        "id": "-obGKVGyV_w5"
      },
      "source": [
        "Load the given data"
      ]
    },
    {
      "cell_type": "code",
      "metadata": {
        "colab": {
          "base_uri": "https://localhost:8080/",
          "height": 206
        },
        "id": "jU1DCAiKrYRY",
        "outputId": "56a05128-05ab-4747-b0a5-8e20fe260133"
      },
      "source": [
        "# load movies_budgets data\n",
        "movies_budgets = pd.read_csv('movies_budgets.csv')\n",
        "movies_budgets.rename(columns={'Unnamed: 0':'ID'},inplace=True)\n",
        "movies_budgets.head()"
      ],
      "execution_count": 2,
      "outputs": [
        {
          "output_type": "execute_result",
          "data": {
            "text/html": [
              "<div>\n",
              "<style scoped>\n",
              "    .dataframe tbody tr th:only-of-type {\n",
              "        vertical-align: middle;\n",
              "    }\n",
              "\n",
              "    .dataframe tbody tr th {\n",
              "        vertical-align: top;\n",
              "    }\n",
              "\n",
              "    .dataframe thead th {\n",
              "        text-align: right;\n",
              "    }\n",
              "</style>\n",
              "<table border=\"1\" class=\"dataframe\">\n",
              "  <thead>\n",
              "    <tr style=\"text-align: right;\">\n",
              "      <th></th>\n",
              "      <th>ID</th>\n",
              "      <th>movie</th>\n",
              "      <th>budget</th>\n",
              "      <th>num_employees</th>\n",
              "      <th>time_minute</th>\n",
              "      <th>year</th>\n",
              "      <th>num_actors</th>\n",
              "    </tr>\n",
              "  </thead>\n",
              "  <tbody>\n",
              "    <tr>\n",
              "      <th>0</th>\n",
              "      <td>0</td>\n",
              "      <td>Joker</td>\n",
              "      <td>1.252633e+07</td>\n",
              "      <td>62</td>\n",
              "      <td>122</td>\n",
              "      <td>2019</td>\n",
              "      <td>13</td>\n",
              "    </tr>\n",
              "    <tr>\n",
              "      <th>1</th>\n",
              "      <td>1</td>\n",
              "      <td>Parasite</td>\n",
              "      <td>9.034395e+07</td>\n",
              "      <td>80</td>\n",
              "      <td>132</td>\n",
              "      <td>2019</td>\n",
              "      <td>5</td>\n",
              "    </tr>\n",
              "    <tr>\n",
              "      <th>2</th>\n",
              "      <td>2</td>\n",
              "      <td>Knives Out</td>\n",
              "      <td>4.833149e+07</td>\n",
              "      <td>50</td>\n",
              "      <td>130</td>\n",
              "      <td>2019</td>\n",
              "      <td>12</td>\n",
              "    </tr>\n",
              "    <tr>\n",
              "      <th>3</th>\n",
              "      <td>3</td>\n",
              "      <td>Once Upon a Time... in Hollywood</td>\n",
              "      <td>5.024064e+07</td>\n",
              "      <td>89</td>\n",
              "      <td>161</td>\n",
              "      <td>2019</td>\n",
              "      <td>16</td>\n",
              "    </tr>\n",
              "    <tr>\n",
              "      <th>4</th>\n",
              "      <td>4</td>\n",
              "      <td>The Gentlemen</td>\n",
              "      <td>6.649767e+06</td>\n",
              "      <td>94</td>\n",
              "      <td>113</td>\n",
              "      <td>2019</td>\n",
              "      <td>9</td>\n",
              "    </tr>\n",
              "  </tbody>\n",
              "</table>\n",
              "</div>"
            ],
            "text/plain": [
              "   ID                             movie  ...  year  num_actors\n",
              "0   0                             Joker  ...  2019          13\n",
              "1   1                          Parasite  ...  2019           5\n",
              "2   2                        Knives Out  ...  2019          12\n",
              "3   3  Once Upon a Time... in Hollywood  ...  2019          16\n",
              "4   4                     The Gentlemen  ...  2019           9\n",
              "\n",
              "[5 rows x 7 columns]"
            ]
          },
          "metadata": {
            "tags": []
          },
          "execution_count": 2
        }
      ]
    },
    {
      "cell_type": "code",
      "metadata": {
        "colab": {
          "base_uri": "https://localhost:8080/",
          "height": 206
        },
        "id": "IzrOZfUksiO6",
        "outputId": "40750581-354f-45a1-d7a8-1e290833cc3b"
      },
      "source": [
        "# load movies_scores data\n",
        "movies_scores = pd.read_csv('movies_scores.csv')\n",
        "movies_scores.rename(columns={'Unnamed: 0':'ID'},inplace=True)\n",
        "movies_scores.head()"
      ],
      "execution_count": 3,
      "outputs": [
        {
          "output_type": "execute_result",
          "data": {
            "text/html": [
              "<div>\n",
              "<style scoped>\n",
              "    .dataframe tbody tr th:only-of-type {\n",
              "        vertical-align: middle;\n",
              "    }\n",
              "\n",
              "    .dataframe tbody tr th {\n",
              "        vertical-align: top;\n",
              "    }\n",
              "\n",
              "    .dataframe thead th {\n",
              "        text-align: right;\n",
              "    }\n",
              "</style>\n",
              "<table border=\"1\" class=\"dataframe\">\n",
              "  <thead>\n",
              "    <tr style=\"text-align: right;\">\n",
              "      <th></th>\n",
              "      <th>ID</th>\n",
              "      <th>movie</th>\n",
              "      <th>time_minute</th>\n",
              "      <th>year</th>\n",
              "      <th>vote</th>\n",
              "      <th>grade</th>\n",
              "      <th>directors</th>\n",
              "    </tr>\n",
              "  </thead>\n",
              "  <tbody>\n",
              "    <tr>\n",
              "      <th>0</th>\n",
              "      <td>0</td>\n",
              "      <td>Joker</td>\n",
              "      <td>122</td>\n",
              "      <td>2019</td>\n",
              "      <td>808270</td>\n",
              "      <td>2.683119</td>\n",
              "      <td>168</td>\n",
              "    </tr>\n",
              "    <tr>\n",
              "      <th>1</th>\n",
              "      <td>1</td>\n",
              "      <td>Parasite</td>\n",
              "      <td>132</td>\n",
              "      <td>2019</td>\n",
              "      <td>426750</td>\n",
              "      <td>8.495495</td>\n",
              "      <td>527</td>\n",
              "    </tr>\n",
              "    <tr>\n",
              "      <th>2</th>\n",
              "      <td>2</td>\n",
              "      <td>Knives Out</td>\n",
              "      <td>130</td>\n",
              "      <td>2019</td>\n",
              "      <td>319809</td>\n",
              "      <td>6.045874</td>\n",
              "      <td>493</td>\n",
              "    </tr>\n",
              "    <tr>\n",
              "      <th>3</th>\n",
              "      <td>3</td>\n",
              "      <td>Once Upon a Time... in Hollywood</td>\n",
              "      <td>161</td>\n",
              "      <td>2019</td>\n",
              "      <td>478002</td>\n",
              "      <td>6.211508</td>\n",
              "      <td>534</td>\n",
              "    </tr>\n",
              "    <tr>\n",
              "      <th>4</th>\n",
              "      <td>4</td>\n",
              "      <td>The Gentlemen</td>\n",
              "      <td>113</td>\n",
              "      <td>2019</td>\n",
              "      <td>146955</td>\n",
              "      <td>1.742737</td>\n",
              "      <td>299</td>\n",
              "    </tr>\n",
              "  </tbody>\n",
              "</table>\n",
              "</div>"
            ],
            "text/plain": [
              "   ID                             movie  ...     grade  directors\n",
              "0   0                             Joker  ...  2.683119        168\n",
              "1   1                          Parasite  ...  8.495495        527\n",
              "2   2                        Knives Out  ...  6.045874        493\n",
              "3   3  Once Upon a Time... in Hollywood  ...  6.211508        534\n",
              "4   4                     The Gentlemen  ...  1.742737        299\n",
              "\n",
              "[5 rows x 7 columns]"
            ]
          },
          "metadata": {
            "tags": []
          },
          "execution_count": 3
        }
      ]
    },
    {
      "cell_type": "markdown",
      "metadata": {
        "id": "_j40zhY6WHMw"
      },
      "source": [
        "Explore dataset"
      ]
    },
    {
      "cell_type": "code",
      "metadata": {
        "colab": {
          "base_uri": "https://localhost:8080/",
          "height": 300
        },
        "id": "u-s9jTsSu0Zp",
        "outputId": "e51b8933-1f2f-438c-bc67-cfcbbc73c395"
      },
      "source": [
        "movies_budgets.describe()"
      ],
      "execution_count": 4,
      "outputs": [
        {
          "output_type": "execute_result",
          "data": {
            "text/html": [
              "<div>\n",
              "<style scoped>\n",
              "    .dataframe tbody tr th:only-of-type {\n",
              "        vertical-align: middle;\n",
              "    }\n",
              "\n",
              "    .dataframe tbody tr th {\n",
              "        vertical-align: top;\n",
              "    }\n",
              "\n",
              "    .dataframe thead th {\n",
              "        text-align: right;\n",
              "    }\n",
              "</style>\n",
              "<table border=\"1\" class=\"dataframe\">\n",
              "  <thead>\n",
              "    <tr style=\"text-align: right;\">\n",
              "      <th></th>\n",
              "      <th>ID</th>\n",
              "      <th>budget</th>\n",
              "      <th>num_employees</th>\n",
              "      <th>time_minute</th>\n",
              "      <th>year</th>\n",
              "      <th>num_actors</th>\n",
              "    </tr>\n",
              "  </thead>\n",
              "  <tbody>\n",
              "    <tr>\n",
              "      <th>count</th>\n",
              "      <td>1000.000000</td>\n",
              "      <td>1.000000e+03</td>\n",
              "      <td>1000.000000</td>\n",
              "      <td>1000.000000</td>\n",
              "      <td>1000.000000</td>\n",
              "      <td>1000.000000</td>\n",
              "    </tr>\n",
              "    <tr>\n",
              "      <th>mean</th>\n",
              "      <td>499.500000</td>\n",
              "      <td>4.418983e+07</td>\n",
              "      <td>69.928000</td>\n",
              "      <td>122.250000</td>\n",
              "      <td>1991.013000</td>\n",
              "      <td>11.935000</td>\n",
              "    </tr>\n",
              "    <tr>\n",
              "      <th>std</th>\n",
              "      <td>288.819436</td>\n",
              "      <td>2.214552e+07</td>\n",
              "      <td>28.400059</td>\n",
              "      <td>27.871856</td>\n",
              "      <td>23.059587</td>\n",
              "      <td>4.434009</td>\n",
              "    </tr>\n",
              "    <tr>\n",
              "      <th>min</th>\n",
              "      <td>0.000000</td>\n",
              "      <td>3.439503e+05</td>\n",
              "      <td>20.000000</td>\n",
              "      <td>45.000000</td>\n",
              "      <td>1920.000000</td>\n",
              "      <td>5.000000</td>\n",
              "    </tr>\n",
              "    <tr>\n",
              "      <th>25%</th>\n",
              "      <td>249.750000</td>\n",
              "      <td>2.933318e+07</td>\n",
              "      <td>47.000000</td>\n",
              "      <td>102.000000</td>\n",
              "      <td>1976.000000</td>\n",
              "      <td>8.000000</td>\n",
              "    </tr>\n",
              "    <tr>\n",
              "      <th>50%</th>\n",
              "      <td>499.500000</td>\n",
              "      <td>4.152462e+07</td>\n",
              "      <td>69.000000</td>\n",
              "      <td>119.000000</td>\n",
              "      <td>1998.500000</td>\n",
              "      <td>12.000000</td>\n",
              "    </tr>\n",
              "    <tr>\n",
              "      <th>75%</th>\n",
              "      <td>749.250000</td>\n",
              "      <td>5.615621e+07</td>\n",
              "      <td>95.000000</td>\n",
              "      <td>136.000000</td>\n",
              "      <td>2009.000000</td>\n",
              "      <td>16.000000</td>\n",
              "    </tr>\n",
              "    <tr>\n",
              "      <th>max</th>\n",
              "      <td>999.000000</td>\n",
              "      <td>1.058777e+08</td>\n",
              "      <td>119.000000</td>\n",
              "      <td>321.000000</td>\n",
              "      <td>2019.000000</td>\n",
              "      <td>19.000000</td>\n",
              "    </tr>\n",
              "  </tbody>\n",
              "</table>\n",
              "</div>"
            ],
            "text/plain": [
              "                ID        budget  ...         year   num_actors\n",
              "count  1000.000000  1.000000e+03  ...  1000.000000  1000.000000\n",
              "mean    499.500000  4.418983e+07  ...  1991.013000    11.935000\n",
              "std     288.819436  2.214552e+07  ...    23.059587     4.434009\n",
              "min       0.000000  3.439503e+05  ...  1920.000000     5.000000\n",
              "25%     249.750000  2.933318e+07  ...  1976.000000     8.000000\n",
              "50%     499.500000  4.152462e+07  ...  1998.500000    12.000000\n",
              "75%     749.250000  5.615621e+07  ...  2009.000000    16.000000\n",
              "max     999.000000  1.058777e+08  ...  2019.000000    19.000000\n",
              "\n",
              "[8 rows x 6 columns]"
            ]
          },
          "metadata": {
            "tags": []
          },
          "execution_count": 4
        }
      ]
    },
    {
      "cell_type": "code",
      "metadata": {
        "colab": {
          "base_uri": "https://localhost:8080/",
          "height": 300
        },
        "id": "O_3dbL7ovPzT",
        "outputId": "2b874cf1-8349-4586-c35e-76651db22ff5"
      },
      "source": [
        "movies_scores.describe()"
      ],
      "execution_count": 5,
      "outputs": [
        {
          "output_type": "execute_result",
          "data": {
            "text/html": [
              "<div>\n",
              "<style scoped>\n",
              "    .dataframe tbody tr th:only-of-type {\n",
              "        vertical-align: middle;\n",
              "    }\n",
              "\n",
              "    .dataframe tbody tr th {\n",
              "        vertical-align: top;\n",
              "    }\n",
              "\n",
              "    .dataframe thead th {\n",
              "        text-align: right;\n",
              "    }\n",
              "</style>\n",
              "<table border=\"1\" class=\"dataframe\">\n",
              "  <thead>\n",
              "    <tr style=\"text-align: right;\">\n",
              "      <th></th>\n",
              "      <th>ID</th>\n",
              "      <th>time_minute</th>\n",
              "      <th>year</th>\n",
              "      <th>vote</th>\n",
              "      <th>grade</th>\n",
              "      <th>directors</th>\n",
              "    </tr>\n",
              "  </thead>\n",
              "  <tbody>\n",
              "    <tr>\n",
              "      <th>count</th>\n",
              "      <td>1000.000000</td>\n",
              "      <td>1000.000000</td>\n",
              "      <td>1000.000000</td>\n",
              "      <td>1.000000e+03</td>\n",
              "      <td>1000.000000</td>\n",
              "      <td>1000.000000</td>\n",
              "    </tr>\n",
              "    <tr>\n",
              "      <th>mean</th>\n",
              "      <td>499.500000</td>\n",
              "      <td>122.250000</td>\n",
              "      <td>1991.013000</td>\n",
              "      <td>2.659911e+05</td>\n",
              "      <td>5.475654</td>\n",
              "      <td>269.067000</td>\n",
              "    </tr>\n",
              "    <tr>\n",
              "      <th>std</th>\n",
              "      <td>288.819436</td>\n",
              "      <td>27.871856</td>\n",
              "      <td>23.059587</td>\n",
              "      <td>3.144706e+05</td>\n",
              "      <td>1.724042</td>\n",
              "      <td>158.129363</td>\n",
              "    </tr>\n",
              "    <tr>\n",
              "      <th>min</th>\n",
              "      <td>0.000000</td>\n",
              "      <td>45.000000</td>\n",
              "      <td>1920.000000</td>\n",
              "      <td>2.518200e+04</td>\n",
              "      <td>0.014822</td>\n",
              "      <td>0.000000</td>\n",
              "    </tr>\n",
              "    <tr>\n",
              "      <th>25%</th>\n",
              "      <td>249.750000</td>\n",
              "      <td>102.000000</td>\n",
              "      <td>1976.000000</td>\n",
              "      <td>5.442525e+04</td>\n",
              "      <td>4.474390</td>\n",
              "      <td>134.000000</td>\n",
              "    </tr>\n",
              "    <tr>\n",
              "      <th>50%</th>\n",
              "      <td>499.500000</td>\n",
              "      <td>119.000000</td>\n",
              "      <td>1998.500000</td>\n",
              "      <td>1.368875e+05</td>\n",
              "      <td>5.500000</td>\n",
              "      <td>268.000000</td>\n",
              "    </tr>\n",
              "    <tr>\n",
              "      <th>75%</th>\n",
              "      <td>749.250000</td>\n",
              "      <td>136.000000</td>\n",
              "      <td>2009.000000</td>\n",
              "      <td>3.631140e+05</td>\n",
              "      <td>6.547221</td>\n",
              "      <td>401.250000</td>\n",
              "    </tr>\n",
              "    <tr>\n",
              "      <th>max</th>\n",
              "      <td>999.000000</td>\n",
              "      <td>321.000000</td>\n",
              "      <td>2019.000000</td>\n",
              "      <td>2.250445e+06</td>\n",
              "      <td>9.244838</td>\n",
              "      <td>549.000000</td>\n",
              "    </tr>\n",
              "  </tbody>\n",
              "</table>\n",
              "</div>"
            ],
            "text/plain": [
              "                ID  time_minute  ...        grade    directors\n",
              "count  1000.000000  1000.000000  ...  1000.000000  1000.000000\n",
              "mean    499.500000   122.250000  ...     5.475654   269.067000\n",
              "std     288.819436    27.871856  ...     1.724042   158.129363\n",
              "min       0.000000    45.000000  ...     0.014822     0.000000\n",
              "25%     249.750000   102.000000  ...     4.474390   134.000000\n",
              "50%     499.500000   119.000000  ...     5.500000   268.000000\n",
              "75%     749.250000   136.000000  ...     6.547221   401.250000\n",
              "max     999.000000   321.000000  ...     9.244838   549.000000\n",
              "\n",
              "[8 rows x 6 columns]"
            ]
          },
          "metadata": {
            "tags": []
          },
          "execution_count": 5
        }
      ]
    },
    {
      "cell_type": "markdown",
      "metadata": {
        "id": "C7X2jsrzWe-Y"
      },
      "source": [
        "Both dataset have the same number of rows and id which expected to be unique. The column 'time_minute' and 'year' are also identical. It can be said that we can combine these two dataset with the three identical column: id, time_minute and year."
      ]
    },
    {
      "cell_type": "code",
      "metadata": {
        "colab": {
          "base_uri": "https://localhost:8080/",
          "height": 206
        },
        "id": "jN6hMLZOvYfx",
        "outputId": "adeadc57-78a6-4513-c967-587ce65f496d"
      },
      "source": [
        "# merge two dataset\n",
        "df_final = movies_budgets.merge(movies_scores, how='inner', left_on=['ID','movie','time_minute','year'], right_on=['ID','movie','time_minute','year'])\n",
        "df_final.head()"
      ],
      "execution_count": 6,
      "outputs": [
        {
          "output_type": "execute_result",
          "data": {
            "text/html": [
              "<div>\n",
              "<style scoped>\n",
              "    .dataframe tbody tr th:only-of-type {\n",
              "        vertical-align: middle;\n",
              "    }\n",
              "\n",
              "    .dataframe tbody tr th {\n",
              "        vertical-align: top;\n",
              "    }\n",
              "\n",
              "    .dataframe thead th {\n",
              "        text-align: right;\n",
              "    }\n",
              "</style>\n",
              "<table border=\"1\" class=\"dataframe\">\n",
              "  <thead>\n",
              "    <tr style=\"text-align: right;\">\n",
              "      <th></th>\n",
              "      <th>ID</th>\n",
              "      <th>movie</th>\n",
              "      <th>budget</th>\n",
              "      <th>num_employees</th>\n",
              "      <th>time_minute</th>\n",
              "      <th>year</th>\n",
              "      <th>num_actors</th>\n",
              "      <th>vote</th>\n",
              "      <th>grade</th>\n",
              "      <th>directors</th>\n",
              "    </tr>\n",
              "  </thead>\n",
              "  <tbody>\n",
              "    <tr>\n",
              "      <th>0</th>\n",
              "      <td>0</td>\n",
              "      <td>Joker</td>\n",
              "      <td>1.252633e+07</td>\n",
              "      <td>62</td>\n",
              "      <td>122</td>\n",
              "      <td>2019</td>\n",
              "      <td>13</td>\n",
              "      <td>808270</td>\n",
              "      <td>2.683119</td>\n",
              "      <td>168</td>\n",
              "    </tr>\n",
              "    <tr>\n",
              "      <th>1</th>\n",
              "      <td>1</td>\n",
              "      <td>Parasite</td>\n",
              "      <td>9.034395e+07</td>\n",
              "      <td>80</td>\n",
              "      <td>132</td>\n",
              "      <td>2019</td>\n",
              "      <td>5</td>\n",
              "      <td>426750</td>\n",
              "      <td>8.495495</td>\n",
              "      <td>527</td>\n",
              "    </tr>\n",
              "    <tr>\n",
              "      <th>2</th>\n",
              "      <td>2</td>\n",
              "      <td>Knives Out</td>\n",
              "      <td>4.833149e+07</td>\n",
              "      <td>50</td>\n",
              "      <td>130</td>\n",
              "      <td>2019</td>\n",
              "      <td>12</td>\n",
              "      <td>319809</td>\n",
              "      <td>6.045874</td>\n",
              "      <td>493</td>\n",
              "    </tr>\n",
              "    <tr>\n",
              "      <th>3</th>\n",
              "      <td>3</td>\n",
              "      <td>Once Upon a Time... in Hollywood</td>\n",
              "      <td>5.024064e+07</td>\n",
              "      <td>89</td>\n",
              "      <td>161</td>\n",
              "      <td>2019</td>\n",
              "      <td>16</td>\n",
              "      <td>478002</td>\n",
              "      <td>6.211508</td>\n",
              "      <td>534</td>\n",
              "    </tr>\n",
              "    <tr>\n",
              "      <th>4</th>\n",
              "      <td>4</td>\n",
              "      <td>The Gentlemen</td>\n",
              "      <td>6.649767e+06</td>\n",
              "      <td>94</td>\n",
              "      <td>113</td>\n",
              "      <td>2019</td>\n",
              "      <td>9</td>\n",
              "      <td>146955</td>\n",
              "      <td>1.742737</td>\n",
              "      <td>299</td>\n",
              "    </tr>\n",
              "  </tbody>\n",
              "</table>\n",
              "</div>"
            ],
            "text/plain": [
              "   ID                             movie  ...     grade  directors\n",
              "0   0                             Joker  ...  2.683119        168\n",
              "1   1                          Parasite  ...  8.495495        527\n",
              "2   2                        Knives Out  ...  6.045874        493\n",
              "3   3  Once Upon a Time... in Hollywood  ...  6.211508        534\n",
              "4   4                     The Gentlemen  ...  1.742737        299\n",
              "\n",
              "[5 rows x 10 columns]"
            ]
          },
          "metadata": {
            "tags": []
          },
          "execution_count": 6
        }
      ]
    },
    {
      "cell_type": "markdown",
      "metadata": {
        "id": "DEJDBBVjXfaq"
      },
      "source": [
        "Check again"
      ]
    },
    {
      "cell_type": "code",
      "metadata": {
        "colab": {
          "base_uri": "https://localhost:8080/",
          "height": 300
        },
        "id": "usbnJoFav5Zb",
        "outputId": "bb088786-6969-4856-ea48-defec2a2ccff"
      },
      "source": [
        "df_final.describe()"
      ],
      "execution_count": 7,
      "outputs": [
        {
          "output_type": "execute_result",
          "data": {
            "text/html": [
              "<div>\n",
              "<style scoped>\n",
              "    .dataframe tbody tr th:only-of-type {\n",
              "        vertical-align: middle;\n",
              "    }\n",
              "\n",
              "    .dataframe tbody tr th {\n",
              "        vertical-align: top;\n",
              "    }\n",
              "\n",
              "    .dataframe thead th {\n",
              "        text-align: right;\n",
              "    }\n",
              "</style>\n",
              "<table border=\"1\" class=\"dataframe\">\n",
              "  <thead>\n",
              "    <tr style=\"text-align: right;\">\n",
              "      <th></th>\n",
              "      <th>ID</th>\n",
              "      <th>budget</th>\n",
              "      <th>num_employees</th>\n",
              "      <th>time_minute</th>\n",
              "      <th>year</th>\n",
              "      <th>num_actors</th>\n",
              "      <th>vote</th>\n",
              "      <th>grade</th>\n",
              "      <th>directors</th>\n",
              "    </tr>\n",
              "  </thead>\n",
              "  <tbody>\n",
              "    <tr>\n",
              "      <th>count</th>\n",
              "      <td>1000.000000</td>\n",
              "      <td>1.000000e+03</td>\n",
              "      <td>1000.000000</td>\n",
              "      <td>1000.000000</td>\n",
              "      <td>1000.000000</td>\n",
              "      <td>1000.000000</td>\n",
              "      <td>1.000000e+03</td>\n",
              "      <td>1000.000000</td>\n",
              "      <td>1000.000000</td>\n",
              "    </tr>\n",
              "    <tr>\n",
              "      <th>mean</th>\n",
              "      <td>499.500000</td>\n",
              "      <td>4.418983e+07</td>\n",
              "      <td>69.928000</td>\n",
              "      <td>122.250000</td>\n",
              "      <td>1991.013000</td>\n",
              "      <td>11.935000</td>\n",
              "      <td>2.659911e+05</td>\n",
              "      <td>5.475654</td>\n",
              "      <td>269.067000</td>\n",
              "    </tr>\n",
              "    <tr>\n",
              "      <th>std</th>\n",
              "      <td>288.819436</td>\n",
              "      <td>2.214552e+07</td>\n",
              "      <td>28.400059</td>\n",
              "      <td>27.871856</td>\n",
              "      <td>23.059587</td>\n",
              "      <td>4.434009</td>\n",
              "      <td>3.144706e+05</td>\n",
              "      <td>1.724042</td>\n",
              "      <td>158.129363</td>\n",
              "    </tr>\n",
              "    <tr>\n",
              "      <th>min</th>\n",
              "      <td>0.000000</td>\n",
              "      <td>3.439503e+05</td>\n",
              "      <td>20.000000</td>\n",
              "      <td>45.000000</td>\n",
              "      <td>1920.000000</td>\n",
              "      <td>5.000000</td>\n",
              "      <td>2.518200e+04</td>\n",
              "      <td>0.014822</td>\n",
              "      <td>0.000000</td>\n",
              "    </tr>\n",
              "    <tr>\n",
              "      <th>25%</th>\n",
              "      <td>249.750000</td>\n",
              "      <td>2.933318e+07</td>\n",
              "      <td>47.000000</td>\n",
              "      <td>102.000000</td>\n",
              "      <td>1976.000000</td>\n",
              "      <td>8.000000</td>\n",
              "      <td>5.442525e+04</td>\n",
              "      <td>4.474390</td>\n",
              "      <td>134.000000</td>\n",
              "    </tr>\n",
              "    <tr>\n",
              "      <th>50%</th>\n",
              "      <td>499.500000</td>\n",
              "      <td>4.152462e+07</td>\n",
              "      <td>69.000000</td>\n",
              "      <td>119.000000</td>\n",
              "      <td>1998.500000</td>\n",
              "      <td>12.000000</td>\n",
              "      <td>1.368875e+05</td>\n",
              "      <td>5.500000</td>\n",
              "      <td>268.000000</td>\n",
              "    </tr>\n",
              "    <tr>\n",
              "      <th>75%</th>\n",
              "      <td>749.250000</td>\n",
              "      <td>5.615621e+07</td>\n",
              "      <td>95.000000</td>\n",
              "      <td>136.000000</td>\n",
              "      <td>2009.000000</td>\n",
              "      <td>16.000000</td>\n",
              "      <td>3.631140e+05</td>\n",
              "      <td>6.547221</td>\n",
              "      <td>401.250000</td>\n",
              "    </tr>\n",
              "    <tr>\n",
              "      <th>max</th>\n",
              "      <td>999.000000</td>\n",
              "      <td>1.058777e+08</td>\n",
              "      <td>119.000000</td>\n",
              "      <td>321.000000</td>\n",
              "      <td>2019.000000</td>\n",
              "      <td>19.000000</td>\n",
              "      <td>2.250445e+06</td>\n",
              "      <td>9.244838</td>\n",
              "      <td>549.000000</td>\n",
              "    </tr>\n",
              "  </tbody>\n",
              "</table>\n",
              "</div>"
            ],
            "text/plain": [
              "                ID        budget  ...        grade    directors\n",
              "count  1000.000000  1.000000e+03  ...  1000.000000  1000.000000\n",
              "mean    499.500000  4.418983e+07  ...     5.475654   269.067000\n",
              "std     288.819436  2.214552e+07  ...     1.724042   158.129363\n",
              "min       0.000000  3.439503e+05  ...     0.014822     0.000000\n",
              "25%     249.750000  2.933318e+07  ...     4.474390   134.000000\n",
              "50%     499.500000  4.152462e+07  ...     5.500000   268.000000\n",
              "75%     749.250000  5.615621e+07  ...     6.547221   401.250000\n",
              "max     999.000000  1.058777e+08  ...     9.244838   549.000000\n",
              "\n",
              "[8 rows x 9 columns]"
            ]
          },
          "metadata": {
            "tags": []
          },
          "execution_count": 7
        }
      ]
    },
    {
      "cell_type": "markdown",
      "metadata": {
        "id": "QMY_NrAPzckj"
      },
      "source": [
        "## 1. Quality of movies per time window"
      ]
    },
    {
      "cell_type": "markdown",
      "metadata": {
        "id": "fi7dg3YAG5_T"
      },
      "source": [
        "a. Which year was the year with the best movies (taking all movies into account that year)."
      ]
    },
    {
      "cell_type": "code",
      "metadata": {
        "colab": {
          "base_uri": "https://localhost:8080/",
          "height": 81
        },
        "id": "r1sNd2CBynzy",
        "outputId": "d0fd39bd-fc53-4408-8cb4-4a37a331d416"
      },
      "source": [
        "q1_a = df_final.groupby(['year']).agg({'vote': 'max'}).sort_values(['vote'],ascending=False).head(1)\n",
        "q1_a = q1_a.reset_index()\n",
        "q1_a = q1_a[['year']]\n",
        "q1_a"
      ],
      "execution_count": 8,
      "outputs": [
        {
          "output_type": "execute_result",
          "data": {
            "text/html": [
              "<div>\n",
              "<style scoped>\n",
              "    .dataframe tbody tr th:only-of-type {\n",
              "        vertical-align: middle;\n",
              "    }\n",
              "\n",
              "    .dataframe tbody tr th {\n",
              "        vertical-align: top;\n",
              "    }\n",
              "\n",
              "    .dataframe thead th {\n",
              "        text-align: right;\n",
              "    }\n",
              "</style>\n",
              "<table border=\"1\" class=\"dataframe\">\n",
              "  <thead>\n",
              "    <tr style=\"text-align: right;\">\n",
              "      <th></th>\n",
              "      <th>year</th>\n",
              "    </tr>\n",
              "  </thead>\n",
              "  <tbody>\n",
              "    <tr>\n",
              "      <th>0</th>\n",
              "      <td>1994</td>\n",
              "    </tr>\n",
              "  </tbody>\n",
              "</table>\n",
              "</div>"
            ],
            "text/plain": [
              "   year\n",
              "0  1994"
            ]
          },
          "metadata": {
            "tags": []
          },
          "execution_count": 8
        }
      ]
    },
    {
      "cell_type": "markdown",
      "metadata": {
        "id": "JjrbR1CvG961"
      },
      "source": [
        "b. Please provide a sorted list of all the years by their quality and top 5."
      ]
    },
    {
      "cell_type": "code",
      "metadata": {
        "id": "_0OuRo3609oi",
        "colab": {
          "base_uri": "https://localhost:8080/",
          "height": 423
        },
        "outputId": "0b073a3c-b83f-4542-8224-2cb254b98ebf"
      },
      "source": [
        "q1_b = df_final.groupby(['year']).apply(lambda x: x.sort_values([\"vote\"], ascending = False)).reset_index(drop=True)\n",
        "q1_b = q1_b.groupby('year').head(5)[['year','vote']]\n",
        "q1_b"
      ],
      "execution_count": 9,
      "outputs": [
        {
          "output_type": "execute_result",
          "data": {
            "text/html": [
              "<div>\n",
              "<style scoped>\n",
              "    .dataframe tbody tr th:only-of-type {\n",
              "        vertical-align: middle;\n",
              "    }\n",
              "\n",
              "    .dataframe tbody tr th {\n",
              "        vertical-align: top;\n",
              "    }\n",
              "\n",
              "    .dataframe thead th {\n",
              "        text-align: right;\n",
              "    }\n",
              "</style>\n",
              "<table border=\"1\" class=\"dataframe\">\n",
              "  <thead>\n",
              "    <tr style=\"text-align: right;\">\n",
              "      <th></th>\n",
              "      <th>year</th>\n",
              "      <th>vote</th>\n",
              "    </tr>\n",
              "  </thead>\n",
              "  <tbody>\n",
              "    <tr>\n",
              "      <th>0</th>\n",
              "      <td>1920</td>\n",
              "      <td>54740</td>\n",
              "    </tr>\n",
              "    <tr>\n",
              "      <th>1</th>\n",
              "      <td>1921</td>\n",
              "      <td>107098</td>\n",
              "    </tr>\n",
              "    <tr>\n",
              "      <th>2</th>\n",
              "      <td>1922</td>\n",
              "      <td>85719</td>\n",
              "    </tr>\n",
              "    <tr>\n",
              "      <th>3</th>\n",
              "      <td>1924</td>\n",
              "      <td>38560</td>\n",
              "    </tr>\n",
              "    <tr>\n",
              "      <th>4</th>\n",
              "      <td>1925</td>\n",
              "      <td>95859</td>\n",
              "    </tr>\n",
              "    <tr>\n",
              "      <th>...</th>\n",
              "      <td>...</td>\n",
              "      <td>...</td>\n",
              "    </tr>\n",
              "    <tr>\n",
              "      <th>978</th>\n",
              "      <td>2019</td>\n",
              "      <td>808270</td>\n",
              "    </tr>\n",
              "    <tr>\n",
              "      <th>979</th>\n",
              "      <td>2019</td>\n",
              "      <td>727950</td>\n",
              "    </tr>\n",
              "    <tr>\n",
              "      <th>980</th>\n",
              "      <td>2019</td>\n",
              "      <td>478002</td>\n",
              "    </tr>\n",
              "    <tr>\n",
              "      <th>981</th>\n",
              "      <td>2019</td>\n",
              "      <td>426750</td>\n",
              "    </tr>\n",
              "    <tr>\n",
              "      <th>982</th>\n",
              "      <td>2019</td>\n",
              "      <td>326813</td>\n",
              "    </tr>\n",
              "  </tbody>\n",
              "</table>\n",
              "<p>407 rows × 2 columns</p>\n",
              "</div>"
            ],
            "text/plain": [
              "     year    vote\n",
              "0    1920   54740\n",
              "1    1921  107098\n",
              "2    1922   85719\n",
              "3    1924   38560\n",
              "4    1925   95859\n",
              "..    ...     ...\n",
              "978  2019  808270\n",
              "979  2019  727950\n",
              "980  2019  478002\n",
              "981  2019  426750\n",
              "982  2019  326813\n",
              "\n",
              "[407 rows x 2 columns]"
            ]
          },
          "metadata": {
            "tags": []
          },
          "execution_count": 9
        }
      ]
    },
    {
      "cell_type": "markdown",
      "metadata": {
        "id": "Q1VaG9b-G9-R"
      },
      "source": [
        "c. Which decade was the best?"
      ]
    },
    {
      "cell_type": "code",
      "metadata": {
        "colab": {
          "base_uri": "https://localhost:8080/",
          "height": 81
        },
        "id": "ewVHKIb44TFp",
        "outputId": "4e5b8d59-a819-4f55-d1ac-da239a949c74"
      },
      "source": [
        "df_final['decade'] = np.ceil(df_final['year']/10)\n",
        "q1_c = df_final.groupby(['decade']).agg({'vote': 'max'}).sort_values(['vote'],ascending=False).head(1)\n",
        "q1_c = q1_c.reset_index()\n",
        "q1_c = q1_c[['decade']]\n",
        "q1_c"
      ],
      "execution_count": 10,
      "outputs": [
        {
          "output_type": "execute_result",
          "data": {
            "text/html": [
              "<div>\n",
              "<style scoped>\n",
              "    .dataframe tbody tr th:only-of-type {\n",
              "        vertical-align: middle;\n",
              "    }\n",
              "\n",
              "    .dataframe tbody tr th {\n",
              "        vertical-align: top;\n",
              "    }\n",
              "\n",
              "    .dataframe thead th {\n",
              "        text-align: right;\n",
              "    }\n",
              "</style>\n",
              "<table border=\"1\" class=\"dataframe\">\n",
              "  <thead>\n",
              "    <tr style=\"text-align: right;\">\n",
              "      <th></th>\n",
              "      <th>decade</th>\n",
              "    </tr>\n",
              "  </thead>\n",
              "  <tbody>\n",
              "    <tr>\n",
              "      <th>0</th>\n",
              "      <td>200.0</td>\n",
              "    </tr>\n",
              "  </tbody>\n",
              "</table>\n",
              "</div>"
            ],
            "text/plain": [
              "   decade\n",
              "0   200.0"
            ]
          },
          "metadata": {
            "tags": []
          },
          "execution_count": 10
        }
      ]
    },
    {
      "cell_type": "markdown",
      "metadata": {
        "id": "WGXosd-pGsDc"
      },
      "source": [
        "## 2. Directors"
      ]
    },
    {
      "cell_type": "markdown",
      "metadata": {
        "id": "xawa6VR1GyXs"
      },
      "source": [
        "a. Find top 5 directors who directed the best quality movies (by their movie grades)."
      ]
    },
    {
      "cell_type": "code",
      "metadata": {
        "colab": {
          "base_uri": "https://localhost:8080/",
          "height": 206
        },
        "id": "Ae5FGFMP-7Dc",
        "outputId": "c6804488-7514-4ac9-df0c-f0fa37fee24c"
      },
      "source": [
        "q2_a = df_final.groupby(['directors']).agg({'grade': 'max'}).sort_values(['grade'],ascending=False).head(5)\n",
        "q2_a = q2_a.reset_index()\n",
        "q2_a"
      ],
      "execution_count": 11,
      "outputs": [
        {
          "output_type": "execute_result",
          "data": {
            "text/html": [
              "<div>\n",
              "<style scoped>\n",
              "    .dataframe tbody tr th:only-of-type {\n",
              "        vertical-align: middle;\n",
              "    }\n",
              "\n",
              "    .dataframe tbody tr th {\n",
              "        vertical-align: top;\n",
              "    }\n",
              "\n",
              "    .dataframe thead th {\n",
              "        text-align: right;\n",
              "    }\n",
              "</style>\n",
              "<table border=\"1\" class=\"dataframe\">\n",
              "  <thead>\n",
              "    <tr style=\"text-align: right;\">\n",
              "      <th></th>\n",
              "      <th>directors</th>\n",
              "      <th>grade</th>\n",
              "    </tr>\n",
              "  </thead>\n",
              "  <tbody>\n",
              "    <tr>\n",
              "      <th>0</th>\n",
              "      <td>17</td>\n",
              "      <td>9.244838</td>\n",
              "    </tr>\n",
              "    <tr>\n",
              "      <th>1</th>\n",
              "      <td>124</td>\n",
              "      <td>9.244838</td>\n",
              "    </tr>\n",
              "    <tr>\n",
              "      <th>2</th>\n",
              "      <td>392</td>\n",
              "      <td>9.244838</td>\n",
              "    </tr>\n",
              "    <tr>\n",
              "      <th>3</th>\n",
              "      <td>6</td>\n",
              "      <td>9.244838</td>\n",
              "    </tr>\n",
              "    <tr>\n",
              "      <th>4</th>\n",
              "      <td>395</td>\n",
              "      <td>9.244838</td>\n",
              "    </tr>\n",
              "  </tbody>\n",
              "</table>\n",
              "</div>"
            ],
            "text/plain": [
              "   directors     grade\n",
              "0         17  9.244838\n",
              "1        124  9.244838\n",
              "2        392  9.244838\n",
              "3          6  9.244838\n",
              "4        395  9.244838"
            ]
          },
          "metadata": {
            "tags": []
          },
          "execution_count": 11
        }
      ]
    },
    {
      "cell_type": "markdown",
      "metadata": {
        "id": "eclEV4GWcyQn"
      },
      "source": [
        "The top 5 directors are"
      ]
    },
    {
      "cell_type": "code",
      "metadata": {
        "colab": {
          "base_uri": "https://localhost:8080/",
          "height": 206
        },
        "id": "WPW-MrcPJIch",
        "outputId": "df755686-21a2-4461-bc67-68526a6e767e"
      },
      "source": [
        "top5_directors = q2_a[['directors']]\n",
        "top5_directors"
      ],
      "execution_count": 12,
      "outputs": [
        {
          "output_type": "execute_result",
          "data": {
            "text/html": [
              "<div>\n",
              "<style scoped>\n",
              "    .dataframe tbody tr th:only-of-type {\n",
              "        vertical-align: middle;\n",
              "    }\n",
              "\n",
              "    .dataframe tbody tr th {\n",
              "        vertical-align: top;\n",
              "    }\n",
              "\n",
              "    .dataframe thead th {\n",
              "        text-align: right;\n",
              "    }\n",
              "</style>\n",
              "<table border=\"1\" class=\"dataframe\">\n",
              "  <thead>\n",
              "    <tr style=\"text-align: right;\">\n",
              "      <th></th>\n",
              "      <th>directors</th>\n",
              "    </tr>\n",
              "  </thead>\n",
              "  <tbody>\n",
              "    <tr>\n",
              "      <th>0</th>\n",
              "      <td>17</td>\n",
              "    </tr>\n",
              "    <tr>\n",
              "      <th>1</th>\n",
              "      <td>124</td>\n",
              "    </tr>\n",
              "    <tr>\n",
              "      <th>2</th>\n",
              "      <td>392</td>\n",
              "    </tr>\n",
              "    <tr>\n",
              "      <th>3</th>\n",
              "      <td>6</td>\n",
              "    </tr>\n",
              "    <tr>\n",
              "      <th>4</th>\n",
              "      <td>395</td>\n",
              "    </tr>\n",
              "  </tbody>\n",
              "</table>\n",
              "</div>"
            ],
            "text/plain": [
              "   directors\n",
              "0         17\n",
              "1        124\n",
              "2        392\n",
              "3          6\n",
              "4        395"
            ]
          },
          "metadata": {
            "tags": []
          },
          "execution_count": 12
        }
      ]
    },
    {
      "cell_type": "markdown",
      "metadata": {
        "id": "kDiwR6sPc3Le"
      },
      "source": [
        "The average grade of all movies is"
      ]
    },
    {
      "cell_type": "code",
      "metadata": {
        "colab": {
          "base_uri": "https://localhost:8080/"
        },
        "id": "gBwqYdIVcdUN",
        "outputId": "5ea68d5d-9685-483b-b731-ded24bca61de"
      },
      "source": [
        "grade_mean = df_final['grade'].mean()\n",
        "grade_mean"
      ],
      "execution_count": 13,
      "outputs": [
        {
          "output_type": "execute_result",
          "data": {
            "text/plain": [
              "5.475653883764269"
            ]
          },
          "metadata": {
            "tags": []
          },
          "execution_count": 13
        }
      ]
    },
    {
      "cell_type": "markdown",
      "metadata": {
        "id": "Pvhh1H-IG3F9"
      },
      "source": [
        "b. Choose 2 or 3 of them as options that you would recommend to work with, why did you choose those?"
      ]
    },
    {
      "cell_type": "code",
      "metadata": {
        "colab": {
          "base_uri": "https://localhost:8080/",
          "height": 143
        },
        "id": "9SZ62wZm_cnt",
        "outputId": "195cafe6-a295-4b4c-b27f-60e35e701070"
      },
      "source": [
        "q2_b = df_final.groupby(['directors']).agg({'grade': ['max','mean','min']})\n",
        "q2_b = q2_b['grade'][['min']].reset_index()\n",
        "q2_b = q2_b[q2_b['min'] > grade_mean]\n",
        "q2_b = q2_b.merge(top5_directors, how='inner', left_on=['directors'], right_on=['directors'])\n",
        "q2_b"
      ],
      "execution_count": 14,
      "outputs": [
        {
          "output_type": "execute_result",
          "data": {
            "text/html": [
              "<div>\n",
              "<style scoped>\n",
              "    .dataframe tbody tr th:only-of-type {\n",
              "        vertical-align: middle;\n",
              "    }\n",
              "\n",
              "    .dataframe tbody tr th {\n",
              "        vertical-align: top;\n",
              "    }\n",
              "\n",
              "    .dataframe thead th {\n",
              "        text-align: right;\n",
              "    }\n",
              "</style>\n",
              "<table border=\"1\" class=\"dataframe\">\n",
              "  <thead>\n",
              "    <tr style=\"text-align: right;\">\n",
              "      <th></th>\n",
              "      <th>directors</th>\n",
              "      <th>min</th>\n",
              "    </tr>\n",
              "  </thead>\n",
              "  <tbody>\n",
              "    <tr>\n",
              "      <th>0</th>\n",
              "      <td>17</td>\n",
              "      <td>9.244838</td>\n",
              "    </tr>\n",
              "    <tr>\n",
              "      <th>1</th>\n",
              "      <td>124</td>\n",
              "      <td>8.495495</td>\n",
              "    </tr>\n",
              "    <tr>\n",
              "      <th>2</th>\n",
              "      <td>395</td>\n",
              "      <td>5.558019</td>\n",
              "    </tr>\n",
              "  </tbody>\n",
              "</table>\n",
              "</div>"
            ],
            "text/plain": [
              "   directors       min\n",
              "0         17  9.244838\n",
              "1        124  8.495495\n",
              "2        395  5.558019"
            ]
          },
          "metadata": {
            "tags": []
          },
          "execution_count": 14
        }
      ]
    },
    {
      "cell_type": "markdown",
      "metadata": {
        "id": "egwoYPqXdA5F"
      },
      "source": [
        "I would recommend the directors 17, 124 and 395 as three of them never produce movies that is lower than average grade and their minimum grade is also higher while the rest two directors have lower than average garde movies."
      ]
    },
    {
      "cell_type": "markdown",
      "metadata": {
        "id": "f4Ap7FTxHXxu"
      },
      "source": [
        "## 3. Budget and profits"
      ]
    },
    {
      "cell_type": "markdown",
      "metadata": {
        "id": "nfdozpYGHcLP"
      },
      "source": [
        "Load the budget table.\n",
        "\n",
        "In general, would you say a lot of employees correlate significantly to more expensive (cost of creating a movie = budget) movies (no need for deep analysis, just an explanation/graph would be enough).\n"
      ]
    },
    {
      "cell_type": "code",
      "metadata": {
        "colab": {
          "base_uri": "https://localhost:8080/",
          "height": 206
        },
        "id": "8SXp-JYr9jFP",
        "outputId": "beab7c3b-6ffe-4a09-d51e-68638ff2b4fc"
      },
      "source": [
        "df_final.head()"
      ],
      "execution_count": 15,
      "outputs": [
        {
          "output_type": "execute_result",
          "data": {
            "text/html": [
              "<div>\n",
              "<style scoped>\n",
              "    .dataframe tbody tr th:only-of-type {\n",
              "        vertical-align: middle;\n",
              "    }\n",
              "\n",
              "    .dataframe tbody tr th {\n",
              "        vertical-align: top;\n",
              "    }\n",
              "\n",
              "    .dataframe thead th {\n",
              "        text-align: right;\n",
              "    }\n",
              "</style>\n",
              "<table border=\"1\" class=\"dataframe\">\n",
              "  <thead>\n",
              "    <tr style=\"text-align: right;\">\n",
              "      <th></th>\n",
              "      <th>ID</th>\n",
              "      <th>movie</th>\n",
              "      <th>budget</th>\n",
              "      <th>num_employees</th>\n",
              "      <th>time_minute</th>\n",
              "      <th>year</th>\n",
              "      <th>num_actors</th>\n",
              "      <th>vote</th>\n",
              "      <th>grade</th>\n",
              "      <th>directors</th>\n",
              "      <th>decade</th>\n",
              "    </tr>\n",
              "  </thead>\n",
              "  <tbody>\n",
              "    <tr>\n",
              "      <th>0</th>\n",
              "      <td>0</td>\n",
              "      <td>Joker</td>\n",
              "      <td>1.252633e+07</td>\n",
              "      <td>62</td>\n",
              "      <td>122</td>\n",
              "      <td>2019</td>\n",
              "      <td>13</td>\n",
              "      <td>808270</td>\n",
              "      <td>2.683119</td>\n",
              "      <td>168</td>\n",
              "      <td>202.0</td>\n",
              "    </tr>\n",
              "    <tr>\n",
              "      <th>1</th>\n",
              "      <td>1</td>\n",
              "      <td>Parasite</td>\n",
              "      <td>9.034395e+07</td>\n",
              "      <td>80</td>\n",
              "      <td>132</td>\n",
              "      <td>2019</td>\n",
              "      <td>5</td>\n",
              "      <td>426750</td>\n",
              "      <td>8.495495</td>\n",
              "      <td>527</td>\n",
              "      <td>202.0</td>\n",
              "    </tr>\n",
              "    <tr>\n",
              "      <th>2</th>\n",
              "      <td>2</td>\n",
              "      <td>Knives Out</td>\n",
              "      <td>4.833149e+07</td>\n",
              "      <td>50</td>\n",
              "      <td>130</td>\n",
              "      <td>2019</td>\n",
              "      <td>12</td>\n",
              "      <td>319809</td>\n",
              "      <td>6.045874</td>\n",
              "      <td>493</td>\n",
              "      <td>202.0</td>\n",
              "    </tr>\n",
              "    <tr>\n",
              "      <th>3</th>\n",
              "      <td>3</td>\n",
              "      <td>Once Upon a Time... in Hollywood</td>\n",
              "      <td>5.024064e+07</td>\n",
              "      <td>89</td>\n",
              "      <td>161</td>\n",
              "      <td>2019</td>\n",
              "      <td>16</td>\n",
              "      <td>478002</td>\n",
              "      <td>6.211508</td>\n",
              "      <td>534</td>\n",
              "      <td>202.0</td>\n",
              "    </tr>\n",
              "    <tr>\n",
              "      <th>4</th>\n",
              "      <td>4</td>\n",
              "      <td>The Gentlemen</td>\n",
              "      <td>6.649767e+06</td>\n",
              "      <td>94</td>\n",
              "      <td>113</td>\n",
              "      <td>2019</td>\n",
              "      <td>9</td>\n",
              "      <td>146955</td>\n",
              "      <td>1.742737</td>\n",
              "      <td>299</td>\n",
              "      <td>202.0</td>\n",
              "    </tr>\n",
              "  </tbody>\n",
              "</table>\n",
              "</div>"
            ],
            "text/plain": [
              "   ID                             movie  ...  directors  decade\n",
              "0   0                             Joker  ...        168   202.0\n",
              "1   1                          Parasite  ...        527   202.0\n",
              "2   2                        Knives Out  ...        493   202.0\n",
              "3   3  Once Upon a Time... in Hollywood  ...        534   202.0\n",
              "4   4                     The Gentlemen  ...        299   202.0\n",
              "\n",
              "[5 rows x 11 columns]"
            ]
          },
          "metadata": {
            "tags": []
          },
          "execution_count": 15
        }
      ]
    },
    {
      "cell_type": "code",
      "metadata": {
        "colab": {
          "base_uri": "https://localhost:8080/",
          "height": 309
        },
        "id": "7YaQT3-eLCU_",
        "outputId": "f56a7181-face-4719-f184-79dbdd150d9b"
      },
      "source": [
        "# Scatterplot\n",
        "df_final.plot.scatter('num_employees','budget')"
      ],
      "execution_count": 16,
      "outputs": [
        {
          "output_type": "execute_result",
          "data": {
            "text/plain": [
              "<matplotlib.axes._subplots.AxesSubplot at 0x7f247e05aa90>"
            ]
          },
          "metadata": {
            "tags": []
          },
          "execution_count": 16
        },
        {
          "output_type": "display_data",
          "data": {
            "image/png": "[encoded data removed]",
            "text/plain": [
              "<Figure size 432x288 with 1 Axes>"
            ]
          },
          "metadata": {
            "tags": [],
            "needs_background": "light"
          }
        }
      ]
    },
    {
      "cell_type": "markdown",
      "metadata": {
        "id": "XDHspWYaMOGb"
      },
      "source": [
        "In general the more number of employee might lead to higher cost, however, acording to the scatter, the lower number of employee could also lead to higher cost. Therefore, the correlation between number of employee and budget is not strong. \n",
        "There is a trend on the straight line that the budget is around 0.4 for most of the movies, while the number of employee varies across the dataset.\n"
      ]
    },
    {
      "cell_type": "code",
      "metadata": {
        "colab": {
          "base_uri": "https://localhost:8080/",
          "height": 335
        },
        "id": "WOEcDcSDLk_F",
        "outputId": "646b52fc-c446-4629-89b4-e4ea781b74ce"
      },
      "source": [
        "# Histogram\n",
        "sns.distplot(df_final['num_employees']) \n",
        "plt.show()"
      ],
      "execution_count": 17,
      "outputs": [
        {
          "output_type": "stream",
          "text": [
            "/usr/local/lib/python3.7/dist-packages/seaborn/distributions.py:2557: FutureWarning: `distplot` is a deprecated function and will be removed in a future version. Please adapt your code to use either `displot` (a figure-level function with similar flexibility) or `histplot` (an axes-level function for histograms).\n",
            "  warnings.warn(msg, FutureWarning)\n"
          ],
          "name": "stderr"
        },
        {
          "output_type": "display_data",
          "data": {
            "image/png": "[encoded data removed]",
            "text/plain": [
              "<Figure size 432x288 with 1 Axes>"
            ]
          },
          "metadata": {
            "tags": [],
            "needs_background": "light"
          }
        }
      ]
    },
    {
      "cell_type": "markdown",
      "metadata": {
        "id": "-g7ZrynRMvsG"
      },
      "source": [
        "The number of employee distributed equally."
      ]
    },
    {
      "cell_type": "code",
      "metadata": {
        "colab": {
          "base_uri": "https://localhost:8080/",
          "height": 345
        },
        "id": "L4JSTTtKLvpT",
        "outputId": "560ee843-4730-417d-d8a9-e9375dbf665b"
      },
      "source": [
        "sns.distplot(df_final['budget']) \n",
        "plt.show()"
      ],
      "execution_count": 18,
      "outputs": [
        {
          "output_type": "stream",
          "text": [
            "/usr/local/lib/python3.7/dist-packages/seaborn/distributions.py:2557: FutureWarning: `distplot` is a deprecated function and will be removed in a future version. Please adapt your code to use either `displot` (a figure-level function with similar flexibility) or `histplot` (an axes-level function for histograms).\n",
            "  warnings.warn(msg, FutureWarning)\n"
          ],
          "name": "stderr"
        },
        {
          "output_type": "display_data",
          "data": {
            "image/png": "[encoded data removed]",
            "text/plain": [
              "<Figure size 432x288 with 1 Axes>"
            ]
          },
          "metadata": {
            "tags": [],
            "needs_background": "light"
          }
        }
      ]
    },
    {
      "cell_type": "markdown",
      "metadata": {
        "id": "yOfT4Ie7MzvU"
      },
      "source": [
        "There is a peak thhat most of the movies use budget at 0.4. We can see this as the minimum budget needed for a movie."
      ]
    },
    {
      "cell_type": "markdown",
      "metadata": {
        "id": "Ib_33_xPQAi3"
      },
      "source": [
        "Assuming it is possible to create a movie with an imaginary grade of 12, how much would it cost to create such a movie? (here you should learn from the existing data)."
      ]
    },
    {
      "cell_type": "code",
      "metadata": {
        "colab": {
          "base_uri": "https://localhost:8080/"
        },
        "id": "g1A-K8oXN2l-",
        "outputId": "aa7f7192-6899-4e84-a94a-ce58ac25c112"
      },
      "source": [
        "# build linear regression to predict movie grade 12\n",
        "# predictor X\n",
        "X = [[x] for x in df_final['grade'].values]\n",
        "# Y\n",
        "y = [[x] for x in df_final['budget'].values]\n",
        "# fit linear regression \n",
        "reg = LinearRegression().fit(X, y)\n",
        "\n",
        "# suppose we want to predict movie grade 12\n",
        "grade = 12\n",
        "\n",
        "# the predicted cost of movie\n",
        "grade12_cost = reg.predict(np.array([[grade]]))[0].item()\n",
        "grade12_cost"
      ],
      "execution_count": 19,
      "outputs": [
        {
          "output_type": "execute_result",
          "data": {
            "text/plain": [
              "125304756.50752899"
            ]
          },
          "metadata": {
            "tags": []
          },
          "execution_count": 19
        }
      ]
    },
    {
      "cell_type": "markdown",
      "metadata": {
        "id": "pc13eYWoQ_Xu"
      },
      "source": [
        "Assuming grades determine the income (amount of sales/revenue) from a movie by the following function: a0 = -300000 a1 = 3500000 a2 = 900000\n",
        "\n",
        "income\\ =\\ a0\\ +\\ a1\\ \\ast grades\\ +\\ a2\\ \\ast\\ grade{s^}^2\\\n",
        "\n",
        "What budget would you choose to make a movie if you want investors to be happy? (assuming investors care about profit, profit)"
      ]
    },
    {
      "cell_type": "code",
      "metadata": {
        "colab": {
          "base_uri": "https://localhost:8080/"
        },
        "id": "6U-EBkbHRDsa",
        "outputId": "00819fe9-05eb-4bc5-ceaa-08656dbd588c"
      },
      "source": [
        "# assuming income for a movie follow this formula with the following parameter\n",
        "a0 = -300000\n",
        "a1 = 3500000\n",
        "a2 = 900000\n",
        "\n",
        "# predicted income\n",
        "income = a0 + a1 * grade + a2 * grade**2\n",
        "income"
      ],
      "execution_count": 20,
      "outputs": [
        {
          "output_type": "execute_result",
          "data": {
            "text/plain": [
              "171300000"
            ]
          },
          "metadata": {
            "tags": []
          },
          "execution_count": 20
        }
      ]
    },
    {
      "cell_type": "markdown",
      "metadata": {
        "id": "zOIa8Ekhfn3B"
      },
      "source": [
        "The predicted profit for grade 12 movie"
      ]
    },
    {
      "cell_type": "code",
      "metadata": {
        "colab": {
          "base_uri": "https://localhost:8080/"
        },
        "id": "mvDKIqf9Ro4Q",
        "outputId": "0e7e59f4-291f-471d-dd78-d59c4194c961"
      },
      "source": [
        "profit = income - grade12_cost \n",
        "profit"
      ],
      "execution_count": 21,
      "outputs": [
        {
          "output_type": "execute_result",
          "data": {
            "text/plain": [
              "45995243.49247101"
            ]
          },
          "metadata": {
            "tags": []
          },
          "execution_count": 21
        }
      ]
    },
    {
      "cell_type": "markdown",
      "metadata": {
        "id": "mj61R8qZRy5-"
      },
      "source": [
        "The expected profit is positive as the expected income of grade 12 movie is higher than cost(budget). We can choose the budget 10% higher than the expected one to control uncertain circumstance and return the rest of the budget incase there are some left to make investor happy."
      ]
    },
    {
      "cell_type": "markdown",
      "metadata": {
        "id": "6L6epW5sTqjj"
      },
      "source": [
        "# Data Engineering - Bonus Exercise "
      ]
    },
    {
      "cell_type": "code",
      "metadata": {
        "id": "nzEN57LtTyQT"
      },
      "source": [
        "import requests\n",
        "from bs4 import BeautifulSoup\n",
        "url = \"http://www.imdb.com/chart/top\"\n",
        "response = requests.get(url).text\n",
        "soup = BeautifulSoup(response, 'html.parser')\n",
        "template = 'https://www.imdb.com%s'\n",
        "title_links = [template % a.attrs.get('href') for a in soup.select( 'td.titleColumn a' )]"
      ],
      "execution_count": 23,
      "outputs": []
    }
  ]
}